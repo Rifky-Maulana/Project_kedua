{
  "nbformat": 4,
  "nbformat_minor": 0,
  "metadata": {
    "colab": {
      "provenance": []
    },
    "kernelspec": {
      "name": "python3",
      "display_name": "Python 3"
    },
    "language_info": {
      "name": "python"
    }
  },
  "cells": [
    {
      "cell_type": "markdown",
      "source": [
        "# Proyek Akhir: Menyelesaikan Permasalahan Perusahaan Edutech"
      ],
      "metadata": {
        "id": "kPBpYxeEHaeX"
      }
    },
    {
      "cell_type": "markdown",
      "source": [
        "- Nama: Rifky Maulana Pasaribu\n",
        "- Email: rifkymp0@gmail.com\n",
        "- Id Dicoding:"
      ],
      "metadata": {
        "id": "8kdLX5Z9HV-H"
      }
    },
    {
      "cell_type": "markdown",
      "source": [
        "#Import Library"
      ],
      "metadata": {
        "id": "OJjJ-KovoBTM"
      }
    },
    {
      "cell_type": "markdown",
      "source": [
        "Cell ini bertanggung jawab untuk mengimpor semua pustaka (libraries) Python yang akan digunakan di sepanjang notebook ini. Pustaka-pustaka ini menyediakan fungsionalitas esensial untuk berbagai tahapan dalam proyek, mulai dari manipulasi data, pemrosesan teks, hingga pembangunan model dan visualisasi"
      ],
      "metadata": {
        "id": "mutL83AOHLmj"
      }
    },
    {
      "cell_type": "code",
      "execution_count": 1,
      "metadata": {
        "id": "GoA3eq8ot_eO"
      },
      "outputs": [],
      "source": [
        "import gdown\n",
        "import pandas as pd\n",
        "import numpy as np\n",
        "from sklearn.feature_extraction.text import TfidfVectorizer\n",
        "from sklearn.metrics.pairwise import cosine_similarity\n",
        "from tqdm import tqdm\n",
        "import pandas as pd\n",
        "import warnings\n",
        "import pandas as pd\n",
        "import numpy as np\n",
        "from sklearn.model_selection import train_test_split\n",
        "import warnings\n",
        "from tqdm import tqdm\n",
        "import matplotlib.pyplot as plt\n",
        "import seaborn as sns\n",
        "from sklearn.metrics import mean_squared_error, mean_absolute_error\n",
        "import matplotlib.pyplot as plt\n",
        "warnings.filterwarnings(\"ignore\")\n",
        "import time\n",
        "from sklearn.neighbors import NearestNeighbors\n"
      ]
    },
    {
      "cell_type": "markdown",
      "source": [
        "# Load Dataset"
      ],
      "metadata": {
        "id": "fEJZ9fNmoFt1"
      }
    },
    {
      "cell_type": "markdown",
      "source": [
        "Cell ini bertanggung jawab untuk mengunduh dataset yang diperlukan untuk analisis dari Google Drive. Dataset ini diidentifikasi menggunakan ID uniknya, dan kemudian diunduh ke lingkungan runtime Google Colab atau lingkungan lokal sebagai file CSV dengan nama Dataset.csv."
      ],
      "metadata": {
        "id": "4xua08qtGhFT"
      }
    },
    {
      "cell_type": "code",
      "source": [
        "# Ganti dengan ID asli dari file kamu\n",
        "dataset = '1zvE4-Y_CYMYANs1mqS6A1qawySsYODZd'\n",
        "\n",
        "url_dataset = f'https://drive.google.com/uc?id={dataset}'\n",
        "\n",
        "gdown.download(url_dataset, 'Dataset.csv', quiet=False)"
      ],
      "metadata": {
        "colab": {
          "base_uri": "https://localhost:8080/",
          "height": 105
        },
        "id": "MbDb_L_ivNU4",
        "outputId": "e1c50595-336e-4538-edd3-bd50eff4a978"
      },
      "execution_count": 2,
      "outputs": [
        {
          "output_type": "stream",
          "name": "stderr",
          "text": [
            "Downloading...\n",
            "From: https://drive.google.com/uc?id=1zvE4-Y_CYMYANs1mqS6A1qawySsYODZd\n",
            "To: /content/Dataset.csv\n",
            "100%|██████████| 502k/502k [00:00<00:00, 15.5MB/s]\n"
          ]
        },
        {
          "output_type": "execute_result",
          "data": {
            "text/plain": [
              "'Dataset.csv'"
            ],
            "application/vnd.google.colaboratory.intrinsic+json": {
              "type": "string"
            }
          },
          "metadata": {},
          "execution_count": 2
        }
      ]
    },
    {
      "cell_type": "markdown",
      "source": [
        "# Data Understanding dan EDA"
      ],
      "metadata": {
        "id": "7X2wcOhZoP30"
      }
    },
    {
      "cell_type": "markdown",
      "source": [
        "Cell ini adalah titik masuk ke dalam fase Data Understanding dan Exploratory Data Analysis (EDA). Tujuan utamanya adalah untuk memuat dataset yang telah diunduh (Dataset.csv) ke dalam struktur data yang dapat dioperasikan (Pandas DataFrame) dan selanjutnya melakukan inspeksi awal untuk memahami karakteristik dasar, struktur, dan potensi masalah pada data sebelum tahapan pra-pemrosesan lebih lanjut"
      ],
      "metadata": {
        "id": "Rr25qjhzRcdc"
      }
    },
    {
      "cell_type": "code",
      "source": [
        "# menampilkan 5 data teratass\n",
        "dataset= pd.read_csv('Dataset.csv')\n",
        "dataset.head()"
      ],
      "metadata": {
        "colab": {
          "base_uri": "https://localhost:8080/",
          "height": 206
        },
        "id": "GI2lhaW6v5LN",
        "outputId": "8d86e25b-8e59-4e67-c95d-b594d2ee1acc"
      },
      "execution_count": 3,
      "outputs": [
        {
          "output_type": "execute_result",
          "data": {
            "text/plain": [
              "   movie_id                     title  year  \\\n",
              "0    100001       #FriendButMarried 2  2020   \n",
              "1    100002                  4 Mantan  2020   \n",
              "2    100003  Aku Tahu Kapan Kamu Mati  2020   \n",
              "3    100004               Anak Garuda  2020   \n",
              "4    100005                 Dignitate  2020   \n",
              "\n",
              "                                         description      genre rating  \\\n",
              "0  Ayudia (Mawar De Jongh) is not satisfied enoug...  Biography    13+   \n",
              "1  Sara, Airin, Rachel, and Amara were accidental...   Thriller    17+   \n",
              "2  After apparent death, Siena is able to see sig...     Horror    13+   \n",
              "3  Good Morning Indonesia, a school for poor orph...  Adventure    13+   \n",
              "4  Alfi (Al Ghazali) meets Alana (Caitlin Halderm...      Drama    17+   \n",
              "\n",
              "   users_rating votes   languages          directors  \\\n",
              "0           6.5   120  Indonesian      Rako Prijanto   \n",
              "1           6.4     8  Indonesian      Hanny Saputra   \n",
              "2           5.4    17  Indonesian  Hadrah Daeng Ratu   \n",
              "3           9.1    27  Indonesian       Faozan Rizal   \n",
              "4           7.6    33  Indonesian       Fajar Nugros   \n",
              "\n",
              "                                              actors  runtime  \n",
              "0  ['Adipati Dolken', 'Mawar Eva de Jongh', 'Vonn...  100 min  \n",
              "1  ['Ranty Maria', 'Jeff Smith', 'Melanie Berentz...   80 min  \n",
              "2  ['Natasha Wilona', 'Ria Ricis', 'Al Ghazali', ...   92 min  \n",
              "3  ['Tissa Biani Azzahra', 'Violla Georgie', 'Aji...  129 min  \n",
              "4  ['Al Ghazali', 'Caitlin Halderman', 'Giorgino ...  109 min  "
            ],
            "text/html": [
              "\n",
              "  <div id=\"df-bcfa824f-8e74-4b55-81fc-51c2a290ed73\" class=\"colab-df-container\">\n",
              "    <div>\n",
              "<style scoped>\n",
              "    .dataframe tbody tr th:only-of-type {\n",
              "        vertical-align: middle;\n",
              "    }\n",
              "\n",
              "    .dataframe tbody tr th {\n",
              "        vertical-align: top;\n",
              "    }\n",
              "\n",
              "    .dataframe thead th {\n",
              "        text-align: right;\n",
              "    }\n",
              "</style>\n",
              "<table border=\"1\" class=\"dataframe\">\n",
              "  <thead>\n",
              "    <tr style=\"text-align: right;\">\n",
              "      <th></th>\n",
              "      <th>movie_id</th>\n",
              "      <th>title</th>\n",
              "      <th>year</th>\n",
              "      <th>description</th>\n",
              "      <th>genre</th>\n",
              "      <th>rating</th>\n",
              "      <th>users_rating</th>\n",
              "      <th>votes</th>\n",
              "      <th>languages</th>\n",
              "      <th>directors</th>\n",
              "      <th>actors</th>\n",
              "      <th>runtime</th>\n",
              "    </tr>\n",
              "  </thead>\n",
              "  <tbody>\n",
              "    <tr>\n",
              "      <th>0</th>\n",
              "      <td>100001</td>\n",
              "      <td>#FriendButMarried 2</td>\n",
              "      <td>2020</td>\n",
              "      <td>Ayudia (Mawar De Jongh) is not satisfied enoug...</td>\n",
              "      <td>Biography</td>\n",
              "      <td>13+</td>\n",
              "      <td>6.5</td>\n",
              "      <td>120</td>\n",
              "      <td>Indonesian</td>\n",
              "      <td>Rako Prijanto</td>\n",
              "      <td>['Adipati Dolken', 'Mawar Eva de Jongh', 'Vonn...</td>\n",
              "      <td>100 min</td>\n",
              "    </tr>\n",
              "    <tr>\n",
              "      <th>1</th>\n",
              "      <td>100002</td>\n",
              "      <td>4 Mantan</td>\n",
              "      <td>2020</td>\n",
              "      <td>Sara, Airin, Rachel, and Amara were accidental...</td>\n",
              "      <td>Thriller</td>\n",
              "      <td>17+</td>\n",
              "      <td>6.4</td>\n",
              "      <td>8</td>\n",
              "      <td>Indonesian</td>\n",
              "      <td>Hanny Saputra</td>\n",
              "      <td>['Ranty Maria', 'Jeff Smith', 'Melanie Berentz...</td>\n",
              "      <td>80 min</td>\n",
              "    </tr>\n",
              "    <tr>\n",
              "      <th>2</th>\n",
              "      <td>100003</td>\n",
              "      <td>Aku Tahu Kapan Kamu Mati</td>\n",
              "      <td>2020</td>\n",
              "      <td>After apparent death, Siena is able to see sig...</td>\n",
              "      <td>Horror</td>\n",
              "      <td>13+</td>\n",
              "      <td>5.4</td>\n",
              "      <td>17</td>\n",
              "      <td>Indonesian</td>\n",
              "      <td>Hadrah Daeng Ratu</td>\n",
              "      <td>['Natasha Wilona', 'Ria Ricis', 'Al Ghazali', ...</td>\n",
              "      <td>92 min</td>\n",
              "    </tr>\n",
              "    <tr>\n",
              "      <th>3</th>\n",
              "      <td>100004</td>\n",
              "      <td>Anak Garuda</td>\n",
              "      <td>2020</td>\n",
              "      <td>Good Morning Indonesia, a school for poor orph...</td>\n",
              "      <td>Adventure</td>\n",
              "      <td>13+</td>\n",
              "      <td>9.1</td>\n",
              "      <td>27</td>\n",
              "      <td>Indonesian</td>\n",
              "      <td>Faozan Rizal</td>\n",
              "      <td>['Tissa Biani Azzahra', 'Violla Georgie', 'Aji...</td>\n",
              "      <td>129 min</td>\n",
              "    </tr>\n",
              "    <tr>\n",
              "      <th>4</th>\n",
              "      <td>100005</td>\n",
              "      <td>Dignitate</td>\n",
              "      <td>2020</td>\n",
              "      <td>Alfi (Al Ghazali) meets Alana (Caitlin Halderm...</td>\n",
              "      <td>Drama</td>\n",
              "      <td>17+</td>\n",
              "      <td>7.6</td>\n",
              "      <td>33</td>\n",
              "      <td>Indonesian</td>\n",
              "      <td>Fajar Nugros</td>\n",
              "      <td>['Al Ghazali', 'Caitlin Halderman', 'Giorgino ...</td>\n",
              "      <td>109 min</td>\n",
              "    </tr>\n",
              "  </tbody>\n",
              "</table>\n",
              "</div>\n",
              "    <div class=\"colab-df-buttons\">\n",
              "\n",
              "  <div class=\"colab-df-container\">\n",
              "    <button class=\"colab-df-convert\" onclick=\"convertToInteractive('df-bcfa824f-8e74-4b55-81fc-51c2a290ed73')\"\n",
              "            title=\"Convert this dataframe to an interactive table.\"\n",
              "            style=\"display:none;\">\n",
              "\n",
              "  <svg xmlns=\"http://www.w3.org/2000/svg\" height=\"24px\" viewBox=\"0 -960 960 960\">\n",
              "    <path d=\"M120-120v-720h720v720H120Zm60-500h600v-160H180v160Zm220 220h160v-160H400v160Zm0 220h160v-160H400v160ZM180-400h160v-160H180v160Zm440 0h160v-160H620v160ZM180-180h160v-160H180v160Zm440 0h160v-160H620v160Z\"/>\n",
              "  </svg>\n",
              "    </button>\n",
              "\n",
              "  <style>\n",
              "    .colab-df-container {\n",
              "      display:flex;\n",
              "      gap: 12px;\n",
              "    }\n",
              "\n",
              "    .colab-df-convert {\n",
              "      background-color: #E8F0FE;\n",
              "      border: none;\n",
              "      border-radius: 50%;\n",
              "      cursor: pointer;\n",
              "      display: none;\n",
              "      fill: #1967D2;\n",
              "      height: 32px;\n",
              "      padding: 0 0 0 0;\n",
              "      width: 32px;\n",
              "    }\n",
              "\n",
              "    .colab-df-convert:hover {\n",
              "      background-color: #E2EBFA;\n",
              "      box-shadow: 0px 1px 2px rgba(60, 64, 67, 0.3), 0px 1px 3px 1px rgba(60, 64, 67, 0.15);\n",
              "      fill: #174EA6;\n",
              "    }\n",
              "\n",
              "    .colab-df-buttons div {\n",
              "      margin-bottom: 4px;\n",
              "    }\n",
              "\n",
              "    [theme=dark] .colab-df-convert {\n",
              "      background-color: #3B4455;\n",
              "      fill: #D2E3FC;\n",
              "    }\n",
              "\n",
              "    [theme=dark] .colab-df-convert:hover {\n",
              "      background-color: #434B5C;\n",
              "      box-shadow: 0px 1px 3px 1px rgba(0, 0, 0, 0.15);\n",
              "      filter: drop-shadow(0px 1px 2px rgba(0, 0, 0, 0.3));\n",
              "      fill: #FFFFFF;\n",
              "    }\n",
              "  </style>\n",
              "\n",
              "    <script>\n",
              "      const buttonEl =\n",
              "        document.querySelector('#df-bcfa824f-8e74-4b55-81fc-51c2a290ed73 button.colab-df-convert');\n",
              "      buttonEl.style.display =\n",
              "        google.colab.kernel.accessAllowed ? 'block' : 'none';\n",
              "\n",
              "      async function convertToInteractive(key) {\n",
              "        const element = document.querySelector('#df-bcfa824f-8e74-4b55-81fc-51c2a290ed73');\n",
              "        const dataTable =\n",
              "          await google.colab.kernel.invokeFunction('convertToInteractive',\n",
              "                                                    [key], {});\n",
              "        if (!dataTable) return;\n",
              "\n",
              "        const docLinkHtml = 'Like what you see? Visit the ' +\n",
              "          '<a target=\"_blank\" href=https://colab.research.google.com/notebooks/data_table.ipynb>data table notebook</a>'\n",
              "          + ' to learn more about interactive tables.';\n",
              "        element.innerHTML = '';\n",
              "        dataTable['output_type'] = 'display_data';\n",
              "        await google.colab.output.renderOutput(dataTable, element);\n",
              "        const docLink = document.createElement('div');\n",
              "        docLink.innerHTML = docLinkHtml;\n",
              "        element.appendChild(docLink);\n",
              "      }\n",
              "    </script>\n",
              "  </div>\n",
              "\n",
              "\n",
              "    <div id=\"df-615da75f-5afc-4735-9749-0d3c7fa80e16\">\n",
              "      <button class=\"colab-df-quickchart\" onclick=\"quickchart('df-615da75f-5afc-4735-9749-0d3c7fa80e16')\"\n",
              "                title=\"Suggest charts\"\n",
              "                style=\"display:none;\">\n",
              "\n",
              "<svg xmlns=\"http://www.w3.org/2000/svg\" height=\"24px\"viewBox=\"0 0 24 24\"\n",
              "     width=\"24px\">\n",
              "    <g>\n",
              "        <path d=\"M19 3H5c-1.1 0-2 .9-2 2v14c0 1.1.9 2 2 2h14c1.1 0 2-.9 2-2V5c0-1.1-.9-2-2-2zM9 17H7v-7h2v7zm4 0h-2V7h2v10zm4 0h-2v-4h2v4z\"/>\n",
              "    </g>\n",
              "</svg>\n",
              "      </button>\n",
              "\n",
              "<style>\n",
              "  .colab-df-quickchart {\n",
              "      --bg-color: #E8F0FE;\n",
              "      --fill-color: #1967D2;\n",
              "      --hover-bg-color: #E2EBFA;\n",
              "      --hover-fill-color: #174EA6;\n",
              "      --disabled-fill-color: #AAA;\n",
              "      --disabled-bg-color: #DDD;\n",
              "  }\n",
              "\n",
              "  [theme=dark] .colab-df-quickchart {\n",
              "      --bg-color: #3B4455;\n",
              "      --fill-color: #D2E3FC;\n",
              "      --hover-bg-color: #434B5C;\n",
              "      --hover-fill-color: #FFFFFF;\n",
              "      --disabled-bg-color: #3B4455;\n",
              "      --disabled-fill-color: #666;\n",
              "  }\n",
              "\n",
              "  .colab-df-quickchart {\n",
              "    background-color: var(--bg-color);\n",
              "    border: none;\n",
              "    border-radius: 50%;\n",
              "    cursor: pointer;\n",
              "    display: none;\n",
              "    fill: var(--fill-color);\n",
              "    height: 32px;\n",
              "    padding: 0;\n",
              "    width: 32px;\n",
              "  }\n",
              "\n",
              "  .colab-df-quickchart:hover {\n",
              "    background-color: var(--hover-bg-color);\n",
              "    box-shadow: 0 1px 2px rgba(60, 64, 67, 0.3), 0 1px 3px 1px rgba(60, 64, 67, 0.15);\n",
              "    fill: var(--button-hover-fill-color);\n",
              "  }\n",
              "\n",
              "  .colab-df-quickchart-complete:disabled,\n",
              "  .colab-df-quickchart-complete:disabled:hover {\n",
              "    background-color: var(--disabled-bg-color);\n",
              "    fill: var(--disabled-fill-color);\n",
              "    box-shadow: none;\n",
              "  }\n",
              "\n",
              "  .colab-df-spinner {\n",
              "    border: 2px solid var(--fill-color);\n",
              "    border-color: transparent;\n",
              "    border-bottom-color: var(--fill-color);\n",
              "    animation:\n",
              "      spin 1s steps(1) infinite;\n",
              "  }\n",
              "\n",
              "  @keyframes spin {\n",
              "    0% {\n",
              "      border-color: transparent;\n",
              "      border-bottom-color: var(--fill-color);\n",
              "      border-left-color: var(--fill-color);\n",
              "    }\n",
              "    20% {\n",
              "      border-color: transparent;\n",
              "      border-left-color: var(--fill-color);\n",
              "      border-top-color: var(--fill-color);\n",
              "    }\n",
              "    30% {\n",
              "      border-color: transparent;\n",
              "      border-left-color: var(--fill-color);\n",
              "      border-top-color: var(--fill-color);\n",
              "      border-right-color: var(--fill-color);\n",
              "    }\n",
              "    40% {\n",
              "      border-color: transparent;\n",
              "      border-right-color: var(--fill-color);\n",
              "      border-top-color: var(--fill-color);\n",
              "    }\n",
              "    60% {\n",
              "      border-color: transparent;\n",
              "      border-right-color: var(--fill-color);\n",
              "    }\n",
              "    80% {\n",
              "      border-color: transparent;\n",
              "      border-right-color: var(--fill-color);\n",
              "      border-bottom-color: var(--fill-color);\n",
              "    }\n",
              "    90% {\n",
              "      border-color: transparent;\n",
              "      border-bottom-color: var(--fill-color);\n",
              "    }\n",
              "  }\n",
              "</style>\n",
              "\n",
              "      <script>\n",
              "        async function quickchart(key) {\n",
              "          const quickchartButtonEl =\n",
              "            document.querySelector('#' + key + ' button');\n",
              "          quickchartButtonEl.disabled = true;  // To prevent multiple clicks.\n",
              "          quickchartButtonEl.classList.add('colab-df-spinner');\n",
              "          try {\n",
              "            const charts = await google.colab.kernel.invokeFunction(\n",
              "                'suggestCharts', [key], {});\n",
              "          } catch (error) {\n",
              "            console.error('Error during call to suggestCharts:', error);\n",
              "          }\n",
              "          quickchartButtonEl.classList.remove('colab-df-spinner');\n",
              "          quickchartButtonEl.classList.add('colab-df-quickchart-complete');\n",
              "        }\n",
              "        (() => {\n",
              "          let quickchartButtonEl =\n",
              "            document.querySelector('#df-615da75f-5afc-4735-9749-0d3c7fa80e16 button');\n",
              "          quickchartButtonEl.style.display =\n",
              "            google.colab.kernel.accessAllowed ? 'block' : 'none';\n",
              "        })();\n",
              "      </script>\n",
              "    </div>\n",
              "\n",
              "    </div>\n",
              "  </div>\n"
            ],
            "application/vnd.google.colaboratory.intrinsic+json": {
              "type": "dataframe",
              "variable_name": "dataset",
              "summary": "{\n  \"name\": \"dataset\",\n  \"rows\": 1272,\n  \"fields\": [\n    {\n      \"column\": \"movie_id\",\n      \"properties\": {\n        \"dtype\": \"number\",\n        \"std\": 367,\n        \"min\": 100001,\n        \"max\": 101272,\n        \"num_unique_values\": 1272,\n        \"samples\": [\n          100209,\n          100967,\n          100715\n        ],\n        \"semantic_type\": \"\",\n        \"description\": \"\"\n      }\n    },\n    {\n      \"column\": \"title\",\n      \"properties\": {\n        \"dtype\": \"string\",\n        \"num_unique_values\": 1262,\n        \"samples\": [\n          \"Mystics in Bali\",\n          \"Otomatis Romantis\",\n          \"Enak Sama Enak\"\n        ],\n        \"semantic_type\": \"\",\n        \"description\": \"\"\n      }\n    },\n    {\n      \"column\": \"year\",\n      \"properties\": {\n        \"dtype\": \"number\",\n        \"std\": 12,\n        \"min\": 1926,\n        \"max\": 2020,\n        \"num_unique_values\": 62,\n        \"samples\": [\n          1970,\n          1954,\n          2020\n        ],\n        \"semantic_type\": \"\",\n        \"description\": \"\"\n      }\n    },\n    {\n      \"column\": \"description\",\n      \"properties\": {\n        \"dtype\": \"string\",\n        \"num_unique_values\": 840,\n        \"samples\": [\n          \"Bagas keeps his feeling towards his childhood friend, Alexandria, but he is unable to express it out. Things changed when Bagas realizes that his best friend, Rafi, already moved ahead and declared his love for Alexandria.\",\n          \"After a raft accident in the jungle, three anthropology students and their guides attempt to escape from a primitive cannibal tribe that has hunted them down.\",\n          \"Keara (Carissa Perusset) loves Ruly (Refal Hady), even though she realizes that Ruly loves Denise (Atikah Suhaime). Meanwhile, Harris (Herjunot Ali) also has found his true love in Keara. But for Keara, Harris is just her best friend.\"\n        ],\n        \"semantic_type\": \"\",\n        \"description\": \"\"\n      }\n    },\n    {\n      \"column\": \"genre\",\n      \"properties\": {\n        \"dtype\": \"category\",\n        \"num_unique_values\": 15,\n        \"samples\": [\n          \"Crime\",\n          \"Sci-Fi\",\n          \"Biography\"\n        ],\n        \"semantic_type\": \"\",\n        \"description\": \"\"\n      }\n    },\n    {\n      \"column\": \"rating\",\n      \"properties\": {\n        \"dtype\": \"category\",\n        \"num_unique_values\": 11,\n        \"samples\": [\n          \"TV-MA\",\n          \"13+\",\n          \"PG-13\"\n        ],\n        \"semantic_type\": \"\",\n        \"description\": \"\"\n      }\n    },\n    {\n      \"column\": \"users_rating\",\n      \"properties\": {\n        \"dtype\": \"number\",\n        \"std\": 1.3893152940311437,\n        \"min\": 1.2,\n        \"max\": 9.4,\n        \"num_unique_values\": 79,\n        \"samples\": [\n          4.8,\n          6.5,\n          7.0\n        ],\n        \"semantic_type\": \"\",\n        \"description\": \"\"\n      }\n    },\n    {\n      \"column\": \"votes\",\n      \"properties\": {\n        \"dtype\": \"category\",\n        \"num_unique_values\": 312,\n        \"samples\": [\n          \"1,709\",\n          \"54\",\n          \"121\"\n        ],\n        \"semantic_type\": \"\",\n        \"description\": \"\"\n      }\n    },\n    {\n      \"column\": \"languages\",\n      \"properties\": {\n        \"dtype\": \"category\",\n        \"num_unique_values\": 8,\n        \"samples\": [\n          \"English\",\n          \"Dutch\",\n          \"Indonesian\"\n        ],\n        \"semantic_type\": \"\",\n        \"description\": \"\"\n      }\n    },\n    {\n      \"column\": \"directors\",\n      \"properties\": {\n        \"dtype\": \"category\",\n        \"num_unique_values\": 377,\n        \"samples\": [\n          \"Dimas Djayadiningrat\",\n          \"Cassandra Massardi\",\n          \"Sofyan D. Surza\"\n        ],\n        \"semantic_type\": \"\",\n        \"description\": \"\"\n      }\n    },\n    {\n      \"column\": \"actors\",\n      \"properties\": {\n        \"dtype\": \"string\",\n        \"num_unique_values\": 1266,\n        \"samples\": [\n          \"['Vita Fatimah', 'Johnny Hong Kong', 'Beng Ito', 'Ronald Kansil', 'Johny Kokong', 'Steve Lee', 'Enden Marlinda', 'Hendro Tangkilisan', nan, nan, nan, nan, nan, nan, nan]\",\n          \"['Nurul Arifin', 'Hotalili', 'Ibrahim Ibnu', 'Fuad Idris', 'Adi Kurdi', 'Jajang C. Noer', 'Monica Oemardi', 'Viva Westi', 'Windy', nan, nan, nan, nan, nan, nan]\",\n          \"['Ernest Prakasa', 'Kemal Palevi', 'Arie Kriting', 'Fico Fachriza', 'Babe Cabita', 'Bintang Timur', 'Mongol Stres', 'Mudy Taylor', 'Indro Warkop', 'Ence Bagus', 'Candil', 'Kiki Fatmala', 'Agung Hercules', 'Agus Kuncoro', 'Cak Lontong']\"\n        ],\n        \"semantic_type\": \"\",\n        \"description\": \"\"\n      }\n    },\n    {\n      \"column\": \"runtime\",\n      \"properties\": {\n        \"dtype\": \"category\",\n        \"num_unique_values\": 85,\n        \"samples\": [\n          \"262 min\",\n          \"100 min\",\n          \"164 min\"\n        ],\n        \"semantic_type\": \"\",\n        \"description\": \"\"\n      }\n    }\n  ]\n}"
            }
          },
          "metadata": {},
          "execution_count": 3
        }
      ]
    },
    {
      "cell_type": "markdown",
      "source": [
        "### Nenampilkan info data"
      ],
      "metadata": {
        "id": "cdPjIWRVCjFp"
      }
    },
    {
      "cell_type": "code",
      "source": [
        "dataset.info()"
      ],
      "metadata": {
        "colab": {
          "base_uri": "https://localhost:8080/"
        },
        "id": "GkCNi7wmwQ9h",
        "outputId": "21ab442b-696f-4745-b7aa-f1ff9e2d54cd"
      },
      "execution_count": 4,
      "outputs": [
        {
          "output_type": "stream",
          "name": "stdout",
          "text": [
            "<class 'pandas.core.frame.DataFrame'>\n",
            "RangeIndex: 1272 entries, 0 to 1271\n",
            "Data columns (total 12 columns):\n",
            " #   Column        Non-Null Count  Dtype  \n",
            "---  ------        --------------  -----  \n",
            " 0   movie_id      1272 non-null   int64  \n",
            " 1   title         1272 non-null   object \n",
            " 2   year          1272 non-null   int64  \n",
            " 3   description   840 non-null    object \n",
            " 4   genre         1236 non-null   object \n",
            " 5   rating        376 non-null    object \n",
            " 6   users_rating  1272 non-null   float64\n",
            " 7   votes         1272 non-null   object \n",
            " 8   languages     1272 non-null   object \n",
            " 9   directors     1265 non-null   object \n",
            " 10  actors        1272 non-null   object \n",
            " 11  runtime       869 non-null    object \n",
            "dtypes: float64(1), int64(2), object(9)\n",
            "memory usage: 119.4+ KB\n"
          ]
        }
      ]
    },
    {
      "cell_type": "code",
      "source": [
        "dataset.describe(include='all')"
      ],
      "metadata": {
        "colab": {
          "base_uri": "https://localhost:8080/",
          "height": 394
        },
        "id": "Vp4i6QB_wVtY",
        "outputId": "77a2e8b7-f75a-4f9c-ceec-920e16cb1939"
      },
      "execution_count": 5,
      "outputs": [
        {
          "output_type": "execute_result",
          "data": {
            "text/plain": [
              "            movie_id  title         year  \\\n",
              "count     1272.00000   1272  1272.000000   \n",
              "unique           NaN   1262          NaN   \n",
              "top              NaN  Arini          NaN   \n",
              "freq             NaN      2          NaN   \n",
              "mean    100636.50000    NaN  2007.023585   \n",
              "std        367.33908    NaN    12.968560   \n",
              "min     100001.00000    NaN  1926.000000   \n",
              "25%     100318.75000    NaN  2006.000000   \n",
              "50%     100636.50000    NaN  2011.000000   \n",
              "75%     100954.25000    NaN  2016.000000   \n",
              "max     101272.00000    NaN  2020.000000   \n",
              "\n",
              "                                              description  genre rating  \\\n",
              "count                                                 840   1236    376   \n",
              "unique                                                840     15     11   \n",
              "top     It tells the story of an Indonesian revolution...  Drama    13+   \n",
              "freq                                                    1    456    161   \n",
              "mean                                                  NaN    NaN    NaN   \n",
              "std                                                   NaN    NaN    NaN   \n",
              "min                                                   NaN    NaN    NaN   \n",
              "25%                                                   NaN    NaN    NaN   \n",
              "50%                                                   NaN    NaN    NaN   \n",
              "75%                                                   NaN    NaN    NaN   \n",
              "max                                                   NaN    NaN    NaN   \n",
              "\n",
              "        users_rating votes   languages         directors  \\\n",
              "count    1272.000000  1272        1272              1265   \n",
              "unique           NaN   312           8               377   \n",
              "top              NaN     6  Indonesian  Nayato Fio Nuala   \n",
              "freq             NaN    58        1241                61   \n",
              "mean        6.144418   NaN         NaN               NaN   \n",
              "std         1.389315   NaN         NaN               NaN   \n",
              "min         1.200000   NaN         NaN               NaN   \n",
              "25%         5.300000   NaN         NaN               NaN   \n",
              "50%         6.400000   NaN         NaN               NaN   \n",
              "75%         7.100000   NaN         NaN               NaN   \n",
              "max         9.400000   NaN         NaN               NaN   \n",
              "\n",
              "                                                   actors runtime  \n",
              "count                                                1272     869  \n",
              "unique                                               1266      85  \n",
              "top     [nan, nan, nan, nan, nan, nan, nan, nan, nan, ...  90 min  \n",
              "freq                                                    4     109  \n",
              "mean                                                  NaN     NaN  \n",
              "std                                                   NaN     NaN  \n",
              "min                                                   NaN     NaN  \n",
              "25%                                                   NaN     NaN  \n",
              "50%                                                   NaN     NaN  \n",
              "75%                                                   NaN     NaN  \n",
              "max                                                   NaN     NaN  "
            ],
            "text/html": [
              "\n",
              "  <div id=\"df-828080a4-f408-4228-b724-f2bf37a181c4\" class=\"colab-df-container\">\n",
              "    <div>\n",
              "<style scoped>\n",
              "    .dataframe tbody tr th:only-of-type {\n",
              "        vertical-align: middle;\n",
              "    }\n",
              "\n",
              "    .dataframe tbody tr th {\n",
              "        vertical-align: top;\n",
              "    }\n",
              "\n",
              "    .dataframe thead th {\n",
              "        text-align: right;\n",
              "    }\n",
              "</style>\n",
              "<table border=\"1\" class=\"dataframe\">\n",
              "  <thead>\n",
              "    <tr style=\"text-align: right;\">\n",
              "      <th></th>\n",
              "      <th>movie_id</th>\n",
              "      <th>title</th>\n",
              "      <th>year</th>\n",
              "      <th>description</th>\n",
              "      <th>genre</th>\n",
              "      <th>rating</th>\n",
              "      <th>users_rating</th>\n",
              "      <th>votes</th>\n",
              "      <th>languages</th>\n",
              "      <th>directors</th>\n",
              "      <th>actors</th>\n",
              "      <th>runtime</th>\n",
              "    </tr>\n",
              "  </thead>\n",
              "  <tbody>\n",
              "    <tr>\n",
              "      <th>count</th>\n",
              "      <td>1272.00000</td>\n",
              "      <td>1272</td>\n",
              "      <td>1272.000000</td>\n",
              "      <td>840</td>\n",
              "      <td>1236</td>\n",
              "      <td>376</td>\n",
              "      <td>1272.000000</td>\n",
              "      <td>1272</td>\n",
              "      <td>1272</td>\n",
              "      <td>1265</td>\n",
              "      <td>1272</td>\n",
              "      <td>869</td>\n",
              "    </tr>\n",
              "    <tr>\n",
              "      <th>unique</th>\n",
              "      <td>NaN</td>\n",
              "      <td>1262</td>\n",
              "      <td>NaN</td>\n",
              "      <td>840</td>\n",
              "      <td>15</td>\n",
              "      <td>11</td>\n",
              "      <td>NaN</td>\n",
              "      <td>312</td>\n",
              "      <td>8</td>\n",
              "      <td>377</td>\n",
              "      <td>1266</td>\n",
              "      <td>85</td>\n",
              "    </tr>\n",
              "    <tr>\n",
              "      <th>top</th>\n",
              "      <td>NaN</td>\n",
              "      <td>Arini</td>\n",
              "      <td>NaN</td>\n",
              "      <td>It tells the story of an Indonesian revolution...</td>\n",
              "      <td>Drama</td>\n",
              "      <td>13+</td>\n",
              "      <td>NaN</td>\n",
              "      <td>6</td>\n",
              "      <td>Indonesian</td>\n",
              "      <td>Nayato Fio Nuala</td>\n",
              "      <td>[nan, nan, nan, nan, nan, nan, nan, nan, nan, ...</td>\n",
              "      <td>90 min</td>\n",
              "    </tr>\n",
              "    <tr>\n",
              "      <th>freq</th>\n",
              "      <td>NaN</td>\n",
              "      <td>2</td>\n",
              "      <td>NaN</td>\n",
              "      <td>1</td>\n",
              "      <td>456</td>\n",
              "      <td>161</td>\n",
              "      <td>NaN</td>\n",
              "      <td>58</td>\n",
              "      <td>1241</td>\n",
              "      <td>61</td>\n",
              "      <td>4</td>\n",
              "      <td>109</td>\n",
              "    </tr>\n",
              "    <tr>\n",
              "      <th>mean</th>\n",
              "      <td>100636.50000</td>\n",
              "      <td>NaN</td>\n",
              "      <td>2007.023585</td>\n",
              "      <td>NaN</td>\n",
              "      <td>NaN</td>\n",
              "      <td>NaN</td>\n",
              "      <td>6.144418</td>\n",
              "      <td>NaN</td>\n",
              "      <td>NaN</td>\n",
              "      <td>NaN</td>\n",
              "      <td>NaN</td>\n",
              "      <td>NaN</td>\n",
              "    </tr>\n",
              "    <tr>\n",
              "      <th>std</th>\n",
              "      <td>367.33908</td>\n",
              "      <td>NaN</td>\n",
              "      <td>12.968560</td>\n",
              "      <td>NaN</td>\n",
              "      <td>NaN</td>\n",
              "      <td>NaN</td>\n",
              "      <td>1.389315</td>\n",
              "      <td>NaN</td>\n",
              "      <td>NaN</td>\n",
              "      <td>NaN</td>\n",
              "      <td>NaN</td>\n",
              "      <td>NaN</td>\n",
              "    </tr>\n",
              "    <tr>\n",
              "      <th>min</th>\n",
              "      <td>100001.00000</td>\n",
              "      <td>NaN</td>\n",
              "      <td>1926.000000</td>\n",
              "      <td>NaN</td>\n",
              "      <td>NaN</td>\n",
              "      <td>NaN</td>\n",
              "      <td>1.200000</td>\n",
              "      <td>NaN</td>\n",
              "      <td>NaN</td>\n",
              "      <td>NaN</td>\n",
              "      <td>NaN</td>\n",
              "      <td>NaN</td>\n",
              "    </tr>\n",
              "    <tr>\n",
              "      <th>25%</th>\n",
              "      <td>100318.75000</td>\n",
              "      <td>NaN</td>\n",
              "      <td>2006.000000</td>\n",
              "      <td>NaN</td>\n",
              "      <td>NaN</td>\n",
              "      <td>NaN</td>\n",
              "      <td>5.300000</td>\n",
              "      <td>NaN</td>\n",
              "      <td>NaN</td>\n",
              "      <td>NaN</td>\n",
              "      <td>NaN</td>\n",
              "      <td>NaN</td>\n",
              "    </tr>\n",
              "    <tr>\n",
              "      <th>50%</th>\n",
              "      <td>100636.50000</td>\n",
              "      <td>NaN</td>\n",
              "      <td>2011.000000</td>\n",
              "      <td>NaN</td>\n",
              "      <td>NaN</td>\n",
              "      <td>NaN</td>\n",
              "      <td>6.400000</td>\n",
              "      <td>NaN</td>\n",
              "      <td>NaN</td>\n",
              "      <td>NaN</td>\n",
              "      <td>NaN</td>\n",
              "      <td>NaN</td>\n",
              "    </tr>\n",
              "    <tr>\n",
              "      <th>75%</th>\n",
              "      <td>100954.25000</td>\n",
              "      <td>NaN</td>\n",
              "      <td>2016.000000</td>\n",
              "      <td>NaN</td>\n",
              "      <td>NaN</td>\n",
              "      <td>NaN</td>\n",
              "      <td>7.100000</td>\n",
              "      <td>NaN</td>\n",
              "      <td>NaN</td>\n",
              "      <td>NaN</td>\n",
              "      <td>NaN</td>\n",
              "      <td>NaN</td>\n",
              "    </tr>\n",
              "    <tr>\n",
              "      <th>max</th>\n",
              "      <td>101272.00000</td>\n",
              "      <td>NaN</td>\n",
              "      <td>2020.000000</td>\n",
              "      <td>NaN</td>\n",
              "      <td>NaN</td>\n",
              "      <td>NaN</td>\n",
              "      <td>9.400000</td>\n",
              "      <td>NaN</td>\n",
              "      <td>NaN</td>\n",
              "      <td>NaN</td>\n",
              "      <td>NaN</td>\n",
              "      <td>NaN</td>\n",
              "    </tr>\n",
              "  </tbody>\n",
              "</table>\n",
              "</div>\n",
              "    <div class=\"colab-df-buttons\">\n",
              "\n",
              "  <div class=\"colab-df-container\">\n",
              "    <button class=\"colab-df-convert\" onclick=\"convertToInteractive('df-828080a4-f408-4228-b724-f2bf37a181c4')\"\n",
              "            title=\"Convert this dataframe to an interactive table.\"\n",
              "            style=\"display:none;\">\n",
              "\n",
              "  <svg xmlns=\"http://www.w3.org/2000/svg\" height=\"24px\" viewBox=\"0 -960 960 960\">\n",
              "    <path d=\"M120-120v-720h720v720H120Zm60-500h600v-160H180v160Zm220 220h160v-160H400v160Zm0 220h160v-160H400v160ZM180-400h160v-160H180v160Zm440 0h160v-160H620v160ZM180-180h160v-160H180v160Zm440 0h160v-160H620v160Z\"/>\n",
              "  </svg>\n",
              "    </button>\n",
              "\n",
              "  <style>\n",
              "    .colab-df-container {\n",
              "      display:flex;\n",
              "      gap: 12px;\n",
              "    }\n",
              "\n",
              "    .colab-df-convert {\n",
              "      background-color: #E8F0FE;\n",
              "      border: none;\n",
              "      border-radius: 50%;\n",
              "      cursor: pointer;\n",
              "      display: none;\n",
              "      fill: #1967D2;\n",
              "      height: 32px;\n",
              "      padding: 0 0 0 0;\n",
              "      width: 32px;\n",
              "    }\n",
              "\n",
              "    .colab-df-convert:hover {\n",
              "      background-color: #E2EBFA;\n",
              "      box-shadow: 0px 1px 2px rgba(60, 64, 67, 0.3), 0px 1px 3px 1px rgba(60, 64, 67, 0.15);\n",
              "      fill: #174EA6;\n",
              "    }\n",
              "\n",
              "    .colab-df-buttons div {\n",
              "      margin-bottom: 4px;\n",
              "    }\n",
              "\n",
              "    [theme=dark] .colab-df-convert {\n",
              "      background-color: #3B4455;\n",
              "      fill: #D2E3FC;\n",
              "    }\n",
              "\n",
              "    [theme=dark] .colab-df-convert:hover {\n",
              "      background-color: #434B5C;\n",
              "      box-shadow: 0px 1px 3px 1px rgba(0, 0, 0, 0.15);\n",
              "      filter: drop-shadow(0px 1px 2px rgba(0, 0, 0, 0.3));\n",
              "      fill: #FFFFFF;\n",
              "    }\n",
              "  </style>\n",
              "\n",
              "    <script>\n",
              "      const buttonEl =\n",
              "        document.querySelector('#df-828080a4-f408-4228-b724-f2bf37a181c4 button.colab-df-convert');\n",
              "      buttonEl.style.display =\n",
              "        google.colab.kernel.accessAllowed ? 'block' : 'none';\n",
              "\n",
              "      async function convertToInteractive(key) {\n",
              "        const element = document.querySelector('#df-828080a4-f408-4228-b724-f2bf37a181c4');\n",
              "        const dataTable =\n",
              "          await google.colab.kernel.invokeFunction('convertToInteractive',\n",
              "                                                    [key], {});\n",
              "        if (!dataTable) return;\n",
              "\n",
              "        const docLinkHtml = 'Like what you see? Visit the ' +\n",
              "          '<a target=\"_blank\" href=https://colab.research.google.com/notebooks/data_table.ipynb>data table notebook</a>'\n",
              "          + ' to learn more about interactive tables.';\n",
              "        element.innerHTML = '';\n",
              "        dataTable['output_type'] = 'display_data';\n",
              "        await google.colab.output.renderOutput(dataTable, element);\n",
              "        const docLink = document.createElement('div');\n",
              "        docLink.innerHTML = docLinkHtml;\n",
              "        element.appendChild(docLink);\n",
              "      }\n",
              "    </script>\n",
              "  </div>\n",
              "\n",
              "\n",
              "    <div id=\"df-7b5aba5a-737e-4f14-843c-ab2006382065\">\n",
              "      <button class=\"colab-df-quickchart\" onclick=\"quickchart('df-7b5aba5a-737e-4f14-843c-ab2006382065')\"\n",
              "                title=\"Suggest charts\"\n",
              "                style=\"display:none;\">\n",
              "\n",
              "<svg xmlns=\"http://www.w3.org/2000/svg\" height=\"24px\"viewBox=\"0 0 24 24\"\n",
              "     width=\"24px\">\n",
              "    <g>\n",
              "        <path d=\"M19 3H5c-1.1 0-2 .9-2 2v14c0 1.1.9 2 2 2h14c1.1 0 2-.9 2-2V5c0-1.1-.9-2-2-2zM9 17H7v-7h2v7zm4 0h-2V7h2v10zm4 0h-2v-4h2v4z\"/>\n",
              "    </g>\n",
              "</svg>\n",
              "      </button>\n",
              "\n",
              "<style>\n",
              "  .colab-df-quickchart {\n",
              "      --bg-color: #E8F0FE;\n",
              "      --fill-color: #1967D2;\n",
              "      --hover-bg-color: #E2EBFA;\n",
              "      --hover-fill-color: #174EA6;\n",
              "      --disabled-fill-color: #AAA;\n",
              "      --disabled-bg-color: #DDD;\n",
              "  }\n",
              "\n",
              "  [theme=dark] .colab-df-quickchart {\n",
              "      --bg-color: #3B4455;\n",
              "      --fill-color: #D2E3FC;\n",
              "      --hover-bg-color: #434B5C;\n",
              "      --hover-fill-color: #FFFFFF;\n",
              "      --disabled-bg-color: #3B4455;\n",
              "      --disabled-fill-color: #666;\n",
              "  }\n",
              "\n",
              "  .colab-df-quickchart {\n",
              "    background-color: var(--bg-color);\n",
              "    border: none;\n",
              "    border-radius: 50%;\n",
              "    cursor: pointer;\n",
              "    display: none;\n",
              "    fill: var(--fill-color);\n",
              "    height: 32px;\n",
              "    padding: 0;\n",
              "    width: 32px;\n",
              "  }\n",
              "\n",
              "  .colab-df-quickchart:hover {\n",
              "    background-color: var(--hover-bg-color);\n",
              "    box-shadow: 0 1px 2px rgba(60, 64, 67, 0.3), 0 1px 3px 1px rgba(60, 64, 67, 0.15);\n",
              "    fill: var(--button-hover-fill-color);\n",
              "  }\n",
              "\n",
              "  .colab-df-quickchart-complete:disabled,\n",
              "  .colab-df-quickchart-complete:disabled:hover {\n",
              "    background-color: var(--disabled-bg-color);\n",
              "    fill: var(--disabled-fill-color);\n",
              "    box-shadow: none;\n",
              "  }\n",
              "\n",
              "  .colab-df-spinner {\n",
              "    border: 2px solid var(--fill-color);\n",
              "    border-color: transparent;\n",
              "    border-bottom-color: var(--fill-color);\n",
              "    animation:\n",
              "      spin 1s steps(1) infinite;\n",
              "  }\n",
              "\n",
              "  @keyframes spin {\n",
              "    0% {\n",
              "      border-color: transparent;\n",
              "      border-bottom-color: var(--fill-color);\n",
              "      border-left-color: var(--fill-color);\n",
              "    }\n",
              "    20% {\n",
              "      border-color: transparent;\n",
              "      border-left-color: var(--fill-color);\n",
              "      border-top-color: var(--fill-color);\n",
              "    }\n",
              "    30% {\n",
              "      border-color: transparent;\n",
              "      border-left-color: var(--fill-color);\n",
              "      border-top-color: var(--fill-color);\n",
              "      border-right-color: var(--fill-color);\n",
              "    }\n",
              "    40% {\n",
              "      border-color: transparent;\n",
              "      border-right-color: var(--fill-color);\n",
              "      border-top-color: var(--fill-color);\n",
              "    }\n",
              "    60% {\n",
              "      border-color: transparent;\n",
              "      border-right-color: var(--fill-color);\n",
              "    }\n",
              "    80% {\n",
              "      border-color: transparent;\n",
              "      border-right-color: var(--fill-color);\n",
              "      border-bottom-color: var(--fill-color);\n",
              "    }\n",
              "    90% {\n",
              "      border-color: transparent;\n",
              "      border-bottom-color: var(--fill-color);\n",
              "    }\n",
              "  }\n",
              "</style>\n",
              "\n",
              "      <script>\n",
              "        async function quickchart(key) {\n",
              "          const quickchartButtonEl =\n",
              "            document.querySelector('#' + key + ' button');\n",
              "          quickchartButtonEl.disabled = true;  // To prevent multiple clicks.\n",
              "          quickchartButtonEl.classList.add('colab-df-spinner');\n",
              "          try {\n",
              "            const charts = await google.colab.kernel.invokeFunction(\n",
              "                'suggestCharts', [key], {});\n",
              "          } catch (error) {\n",
              "            console.error('Error during call to suggestCharts:', error);\n",
              "          }\n",
              "          quickchartButtonEl.classList.remove('colab-df-spinner');\n",
              "          quickchartButtonEl.classList.add('colab-df-quickchart-complete');\n",
              "        }\n",
              "        (() => {\n",
              "          let quickchartButtonEl =\n",
              "            document.querySelector('#df-7b5aba5a-737e-4f14-843c-ab2006382065 button');\n",
              "          quickchartButtonEl.style.display =\n",
              "            google.colab.kernel.accessAllowed ? 'block' : 'none';\n",
              "        })();\n",
              "      </script>\n",
              "    </div>\n",
              "\n",
              "    </div>\n",
              "  </div>\n"
            ],
            "application/vnd.google.colaboratory.intrinsic+json": {
              "type": "dataframe",
              "summary": "{\n  \"name\": \"dataset\",\n  \"rows\": 11,\n  \"fields\": [\n    {\n      \"column\": \"movie_id\",\n      \"properties\": {\n        \"dtype\": \"number\",\n        \"std\": 46208.407275969636,\n        \"min\": 367.3390804148124,\n        \"max\": 101272.0,\n        \"num_unique_values\": 7,\n        \"samples\": [\n          1272.0,\n          100636.5,\n          100954.25\n        ],\n        \"semantic_type\": \"\",\n        \"description\": \"\"\n      }\n    },\n    {\n      \"column\": \"title\",\n      \"properties\": {\n        \"dtype\": \"category\",\n        \"num_unique_values\": 4,\n        \"samples\": [\n          1262,\n          \"2\",\n          \"1272\"\n        ],\n        \"semantic_type\": \"\",\n        \"description\": \"\"\n      }\n    },\n    {\n      \"column\": \"year\",\n      \"properties\": {\n        \"dtype\": \"number\",\n        \"std\": 712.5087257524466,\n        \"min\": 12.968560071069561,\n        \"max\": 2020.0,\n        \"num_unique_values\": 8,\n        \"samples\": [\n          2007.0235849056603,\n          2011.0,\n          1272.0\n        ],\n        \"semantic_type\": \"\",\n        \"description\": \"\"\n      }\n    },\n    {\n      \"column\": \"description\",\n      \"properties\": {\n        \"dtype\": \"category\",\n        \"num_unique_values\": 3,\n        \"samples\": [\n          \"840\",\n          \"It tells the story of an Indonesian revolutionary who falls in love with one of his Dutch prisoners.\",\n          \"1\"\n        ],\n        \"semantic_type\": \"\",\n        \"description\": \"\"\n      }\n    },\n    {\n      \"column\": \"genre\",\n      \"properties\": {\n        \"dtype\": \"category\",\n        \"num_unique_values\": 4,\n        \"samples\": [\n          15,\n          \"456\",\n          \"1236\"\n        ],\n        \"semantic_type\": \"\",\n        \"description\": \"\"\n      }\n    },\n    {\n      \"column\": \"rating\",\n      \"properties\": {\n        \"dtype\": \"category\",\n        \"num_unique_values\": 4,\n        \"samples\": [\n          11,\n          \"161\",\n          \"376\"\n        ],\n        \"semantic_type\": \"\",\n        \"description\": \"\"\n      }\n    },\n    {\n      \"column\": \"users_rating\",\n      \"properties\": {\n        \"dtype\": \"number\",\n        \"std\": 447.8631015683402,\n        \"min\": 1.2,\n        \"max\": 1272.0,\n        \"num_unique_values\": 8,\n        \"samples\": [\n          6.144418238993711,\n          6.4,\n          1272.0\n        ],\n        \"semantic_type\": \"\",\n        \"description\": \"\"\n      }\n    },\n    {\n      \"column\": \"votes\",\n      \"properties\": {\n        \"dtype\": \"category\",\n        \"num_unique_values\": 4,\n        \"samples\": [\n          312,\n          \"58\",\n          \"1272\"\n        ],\n        \"semantic_type\": \"\",\n        \"description\": \"\"\n      }\n    },\n    {\n      \"column\": \"languages\",\n      \"properties\": {\n        \"dtype\": \"category\",\n        \"num_unique_values\": 4,\n        \"samples\": [\n          8,\n          \"1241\",\n          \"1272\"\n        ],\n        \"semantic_type\": \"\",\n        \"description\": \"\"\n      }\n    },\n    {\n      \"column\": \"directors\",\n      \"properties\": {\n        \"dtype\": \"category\",\n        \"num_unique_values\": 4,\n        \"samples\": [\n          377,\n          \"61\",\n          \"1265\"\n        ],\n        \"semantic_type\": \"\",\n        \"description\": \"\"\n      }\n    },\n    {\n      \"column\": \"actors\",\n      \"properties\": {\n        \"dtype\": \"category\",\n        \"num_unique_values\": 4,\n        \"samples\": [\n          1266,\n          \"4\",\n          \"1272\"\n        ],\n        \"semantic_type\": \"\",\n        \"description\": \"\"\n      }\n    },\n    {\n      \"column\": \"runtime\",\n      \"properties\": {\n        \"dtype\": \"category\",\n        \"num_unique_values\": 4,\n        \"samples\": [\n          85,\n          \"109\",\n          \"869\"\n        ],\n        \"semantic_type\": \"\",\n        \"description\": \"\"\n      }\n    }\n  ]\n}"
            }
          },
          "metadata": {},
          "execution_count": 5
        }
      ]
    },
    {
      "cell_type": "markdown",
      "source": [
        " Berdasarkan grafik \"10 Genre Terbanyak\", dapat disimpulkan bahwa genre Drama merupakan genre yang paling sering muncul dengan jumlah yang sangat dominan dibandingkan genre lainnya. Di posisi berikutnya terdapat genre Comedy dan Horror, meskipun jumlahnya masih cukup jauh di bawah Drama. Sementara itu, genre seperti Adventure, Biography, Thriller, Romance, Fantasy, dan Crime memiliki frekuensi kemunculan yang jauh lebih rendah. Hal ini menunjukkan bahwa distribusi genre dalam dataset cenderung tidak merata, dengan hanya beberapa genre yang mendominasi dan sisanya memiliki representasi yang sangat kecil.\n",
        "\n"
      ],
      "metadata": {
        "id": "V8xelIGtCrQf"
      }
    },
    {
      "cell_type": "code",
      "source": [
        "# Genre paling sering muncul\n",
        "plt.figure(figsize=(10, 5))\n",
        "top_genres = dataset['genre'].value_counts().head(10)\n",
        "sns.barplot(x=top_genres.index, y=top_genres.values)\n",
        "plt.title(\"10 Genre Terbanyak\")\n",
        "plt.xticks(rotation=45)\n",
        "plt.ylabel(\"Jumlah\")\n",
        "plt.show()\n"
      ],
      "metadata": {
        "colab": {
          "base_uri": "https://localhost:8080/",
          "height": 534
        },
        "id": "J8Yp_e8IxjAG",
        "outputId": "216374d7-e176-41f2-f79f-1bf37f4eac8e"
      },
      "execution_count": 6,
      "outputs": [
        {
          "output_type": "display_data",
          "data": {
            "text/plain": [
              "<Figure size 1000x500 with 1 Axes>"
            ],
            "image/png": "[encoded data removed]"
          },
          "metadata": {}
        }
      ]
    },
    {
      "cell_type": "markdown",
      "source": [
        "Berdasarkan grafik \"Jumlah Film per Tahun\", dapat disimpulkan bahwa produksi film mengalami peningkatan yang signifikan sejak awal tahun 2000-an, dengan puncaknya terjadi sekitar tahun 2019. Sebelumnya, jumlah film yang diproduksi per tahun cenderung rendah dan relatif stabil. Lonjakan tajam ini mencerminkan berkembangnya industri film modern, kemajuan teknologi, serta meningkatnya permintaan dan akses terhadap hiburan visual. Namun, terjadi penurunan drastis pada tahun 2020, yang kemungkinan besar disebabkan oleh dampak pandemi COVID-19 terhadap industri perfilman global."
      ],
      "metadata": {
        "id": "xENiGvAEDz3k"
      }
    },
    {
      "cell_type": "code",
      "source": [
        "# Menalmpilkan jumplah film pertahun\n",
        "plt.figure(figsize=(12, 6))\n",
        "sns.countplot(x='year', data=dataset, order=dataset['year'].value_counts().index.sort_values())\n",
        "plt.xticks(rotation=90)\n",
        "plt.title('Jumlah Film per Tahun')\n",
        "plt.xlabel('Tahun')\n",
        "plt.ylabel('Jumlah Film')\n",
        "plt.show()\n"
      ],
      "metadata": {
        "colab": {
          "base_uri": "https://localhost:8080/",
          "height": 586
        },
        "id": "pxL_nHd20NAa",
        "outputId": "08e62f5b-0248-49cd-ba2b-1c6c261cb424"
      },
      "execution_count": 7,
      "outputs": [
        {
          "output_type": "display_data",
          "data": {
            "text/plain": [
              "<Figure size 1200x600 with 1 Axes>"
            ],
            "image/png": "[encoded data removed]"
          },
          "metadata": {}
        }
      ]
    },
    {
      "cell_type": "markdown",
      "source": [
        "#Data Preparation"
      ],
      "metadata": {
        "id": "LYZlA2qroYsp"
      }
    },
    {
      "cell_type": "markdown",
      "source": [
        "Cell ini adalah bagian awal dari tahapan Data Preparation, berfokus pada penanganan nilai-nilai yang hilang (NaN) pada kolom teks kunci dan rekayasa fitur dengan menggabungkan beberapa kolom teks menjadi satu fitur gabungan. Langkah-langkah ini penting untuk memastikan data siap untuk pemrosesan teks lebih lanjut (misalnya, vectorization) dan model tidak mengalami error karena nilai kosong atau format data yang terpisah.\n",
        "\n",
        " Langkah pertama adalah mengganti nilai NaN pada kolom description dan genre dengan string kosong untuk menghindari error saat pemrosesan. Kemudian, kedua kolom tersebut digabung menjadi satu fitur teks baru bernama combined_features. Fitur gabungan ini selanjutnya diubah menjadi representasi numerik menggunakan metode TF-IDF (Term Frequency-Inverse Document Frequency), yang hanya mempertahankan 1000 fitur paling informatif dan menghilangkan kata-kata umum dalam bahasa Inggris. Setelah itu, dihitung jarak kemiripan antar film menggunakan cosine similarity, yang menghasilkan matriks kemiripan antar semua film. Akhirnya, dilakukan pemetaan indeks terhadap judul film agar sistem dapat dengan mudah mengambil data film berdasarkan judul sebagai referensi untuk rekomendasi."
      ],
      "metadata": {
        "id": "YnRi-wgGR0Zt"
      }
    },
    {
      "cell_type": "code",
      "source": [
        "# Ganti NaN dengan string kosong\n",
        "dataset['description'] = dataset['description'].fillna('')\n",
        "dataset['genre'] = dataset['genre'].fillna('')\n",
        "\n",
        "# Gabungkan konten untuk fitur text\n",
        "dataset['combined_features'] = dataset['description'] + ' ' + dataset['genre']\n",
        "\n",
        "# Buat TF-IDF matrix di Data Preparation\n",
        "from sklearn.feature_extraction.text import TfidfVectorizer\n",
        "\n",
        "tfidf = TfidfVectorizer(max_features=1000, stop_words='english')\n",
        "tfidf_matrix = tfidf.fit_transform(dataset['combined_features'])\n",
        "\n",
        "# Hitung cosine similarity\n",
        "from sklearn.metrics.pairwise import cosine_similarity\n",
        "cosine_sim = cosine_similarity(tfidf_matrix, tfidf_matrix)\n",
        "\n",
        "# Buat mapping indices untuk judul film\n",
        "indices = pd.Series(dataset.index, index=dataset['title']).drop_duplicates()\n",
        "\n",
        "dataset.info()"
      ],
      "metadata": {
        "colab": {
          "base_uri": "https://localhost:8080/"
        },
        "id": "WE7dNOkx1jZV",
        "outputId": "144da3cb-d3e2-4629-a0c6-0471b254601c"
      },
      "execution_count": 8,
      "outputs": [
        {
          "output_type": "stream",
          "name": "stdout",
          "text": [
            "<class 'pandas.core.frame.DataFrame'>\n",
            "RangeIndex: 1272 entries, 0 to 1271\n",
            "Data columns (total 13 columns):\n",
            " #   Column             Non-Null Count  Dtype  \n",
            "---  ------             --------------  -----  \n",
            " 0   movie_id           1272 non-null   int64  \n",
            " 1   title              1272 non-null   object \n",
            " 2   year               1272 non-null   int64  \n",
            " 3   description        1272 non-null   object \n",
            " 4   genre              1272 non-null   object \n",
            " 5   rating             376 non-null    object \n",
            " 6   users_rating       1272 non-null   float64\n",
            " 7   votes              1272 non-null   object \n",
            " 8   languages          1272 non-null   object \n",
            " 9   directors          1265 non-null   object \n",
            " 10  actors             1272 non-null   object \n",
            " 11  runtime            869 non-null    object \n",
            " 12  combined_features  1272 non-null   object \n",
            "dtypes: float64(1), int64(2), object(10)\n",
            "memory usage: 129.3+ KB\n"
          ]
        }
      ]
    },
    {
      "cell_type": "markdown",
      "source": [
        "# Build Model dan Algoritma"
      ],
      "metadata": {
        "id": "brivnZfCojYT"
      }
    },
    {
      "cell_type": "markdown",
      "source": [
        "Cell ini mendefinisikan dan mengimplementasikan kelas MovieRecommender yang merupakan inti dari sistem rekomendasi berbasis konten. Kelas ini menggunakan fitur teks gabungan (combined_features) untuk membangun representasi TF-IDF dari film dan kemudian menghitung kesamaan kosinus antar film. Selanjutnya, kelas ini menyediakan metode untuk menghasilkan rekomendasi berdasarkan judul film yang diberikan. Di bagian bawah cell, kelas ini diinisialisasi, dan dilatih.\n",
        "\n",
        "Kode ini membangun sebuah kelas bernama MovieRecommender yang berfungsi untuk merekomendasikan film berdasarkan kemiripan konten. Konstruktor __init__ menginisialisasi atribut seperti cosine_sim, df, dan indices sebagai None. Fungsi fit() digunakan untuk melatih model dengan data yang telah diproses sebelumnya, termasuk matriks TF-IDF dan matriks kemiripan cosine yang sudah dibuat. Metode get_recommendations() menerima judul film dan jumlah rekomendasi yang diinginkan. Pertama, ia mencari indeks dari film yang diberikan, lalu menghitung skor kemiripan dengan semua film lain, mengurutkannya berdasarkan skor tertinggi, dan mengambil film-film dengan skor tertinggi (kecuali film itu sendiri). Terakhir, ia mengembalikan judul, genre, dan rating pengguna dari film yang direkomendasikan. Jika judul tidak ditemukan, maka akan mengembalikan pesan error."
      ],
      "metadata": {
        "id": "5Iv_3X6jSKap"
      }
    },
    {
      "cell_type": "markdown",
      "source": [
        "## Content Based filtering"
      ],
      "metadata": {
        "id": "hJald5YGI3un"
      }
    },
    {
      "cell_type": "code",
      "source": [
        "class MovieRecommender:\n",
        "    def __init__(self):\n",
        "        \"\"\"\n",
        "        Initialize recommender\n",
        "        \"\"\"\n",
        "        self.cosine_sim = None\n",
        "        self.indices = None\n",
        "        self.df = None\n",
        "\n",
        "    def fit(self, df):\n",
        "        \"\"\"\n",
        "        Fit model dengan dataset yang sudah dipreprocess\n",
        "        \"\"\"\n",
        "        self.df = df\n",
        "        # Menggunakan TF-IDF matrix dan cosine similarity yang sudah dibuat di Data Preparation\n",
        "        self.cosine_sim = cosine_sim\n",
        "        self.indices = indices\n",
        "\n",
        "    def get_recommendations(self, title, n_recommendations=10):\n",
        "        \"\"\"\n",
        "        Dapatkan rekomendasi berdasarkan judul film\n",
        "        \"\"\"\n",
        "        try:\n",
        "            # Dapatkan index dari judul film\n",
        "            idx = self.indices[title]\n",
        "\n",
        "            # Dapatkan similarity scores\n",
        "            sim_scores = list(enumerate(self.cosine_sim[idx]))\n",
        "\n",
        "            # Sort berdasarkan similarity score\n",
        "            sim_scores = sorted(sim_scores, key=lambda x: x[1], reverse=True)\n",
        "\n",
        "            # Ambil top n recommendations (skip index 0 karena itu film itu sendiri)\n",
        "            sim_scores = sim_scores[1:n_recommendations+1]\n",
        "\n",
        "            # Dapatkan movie indices\n",
        "            movie_indices = [i[0] for i in sim_scores]\n",
        "\n",
        "            # Return judul, genre, dan rating film yang direkomendasikan\n",
        "            return self.df.iloc[movie_indices][['title', 'genre', 'users_rating']]\n",
        "\n",
        "        except KeyError:\n",
        "            return f\"Film '{title}' tidak ditemukan dalam dataset\""
      ],
      "metadata": {
        "id": "gtrImtIKvkb0"
      },
      "execution_count": 9,
      "outputs": []
    },
    {
      "cell_type": "markdown",
      "source": [
        "Di akhir, kelas diinstansiasi, data dilatih, dan sistem diuji dengan mengambil film pertama sebagai contoh dan menampilkan hasil rekomendasinya."
      ],
      "metadata": {
        "id": "aEBNnAWvEZHD"
      }
    },
    {
      "cell_type": "code",
      "source": [
        "# Inisialisasi recommender\n",
        "recommender = MovieRecommender()\n",
        "recommender.fit(dataset)\n",
        "print(\"✅ Model berhasil dilatih!\")\n",
        "\n",
        "# ========================================\n",
        "# Test Recommendation\n",
        "\n",
        "# Ambil film pertama sebagai contoh\n",
        "sample_movie = dataset['title'].iloc[0]\n",
        "print(f\"Film: {sample_movie}\")\n",
        "print(\"\\nRekomendasi:\")\n",
        "recommendations = recommender.get_recommendations(sample_movie, 5)\n",
        "print(recommendations)"
      ],
      "metadata": {
        "colab": {
          "base_uri": "https://localhost:8080/"
        },
        "id": "MpgfWfZSvlee",
        "outputId": "6cd4bb49-faa5-44a1-e316-530922821761"
      },
      "execution_count": 10,
      "outputs": [
        {
          "output_type": "stream",
          "name": "stdout",
          "text": [
            "✅ Model berhasil dilatih!\n",
            "Film: #FriendButMarried 2\n",
            "\n",
            "Rekomendasi:\n",
            "                  title      genre  users_rating\n",
            "131   #FriendButMarried  Biography           6.9\n",
            "1118         Johny Indo  Biography           7.6\n",
            "224   Udah Putusin Aja!      Drama           7.3\n",
            "962            Brownies                      6.0\n",
            "414          3600 Detik      Drama           6.6\n"
          ]
        }
      ]
    },
    {
      "cell_type": "markdown",
      "source": [
        "# Evaluation Model"
      ],
      "metadata": {
        "id": "QUWkQjQAorHa"
      }
    },
    {
      "cell_type": "markdown",
      "source": [
        "Cell ini mendefinisikan fungsi evaluate_model(df) yang bertujuan untuk mengevaluasi kinerja sistem rekomendasi dari perspektif \"prediksi rating\". Meskipun sistem rekomendasi berbasis konten biasanya tidak secara eksplisit \"memprediksi\" rating, pendekatan ini mencoba mengukur seberapa baik rekomendasi yang diberikan memiliki rating pengguna yang tinggi, mengindikasikan kualitas rekomendasi. Fungsi ini mengambil sampel film secara acak, mendapatkan rekomendasi untuk setiap film tersebut, dan kemudian menghitung Mean Squared Error (MSE), Mean Absolute Error (MAE), dan Root Mean Squared Error (RMSE) antara rata-rata rating dari rekomendasi dan rating asli film yang menjadi dasar rekomendasi."
      ],
      "metadata": {
        "id": "_jKby9mPSgwb"
      }
    },
    {
      "cell_type": "code",
      "source": [
        "def evaluate_content_based(recommender, k=10):\n",
        "    \"\"\"\n",
        "    Simple evaluation dengan Precision@K dan Recall@K\n",
        "    \"\"\"\n",
        "    # Ambil film dengan rating tinggi sebagai ground truth\n",
        "    high_rated = set(dataset[dataset['users_rating'] >= 4.0]['title'].values)\n",
        "\n",
        "    # Sample 30 film untuk test\n",
        "    sample_movies = dataset['title'].sample(30, random_state=42).values\n",
        "\n",
        "    precision_scores = []\n",
        "    recall_scores = []\n",
        "\n",
        "    for movie_title in sample_movies:\n",
        "        try:\n",
        "            recs = recommender.get_recommendations(movie_title, k)\n",
        "\n",
        "            if len(recs) == 0:\n",
        "                continue\n",
        "\n",
        "            recommended = set(recs['title'].values)\n",
        "            relevant = recommended.intersection(high_rated)\n",
        "\n",
        "            # Precision@K dan Recall@K\n",
        "            precision = len(relevant) / len(recommended) if len(recommended) > 0 else 0\n",
        "            recall = len(relevant) / len(high_rated) if len(high_rated) > 0 else 0\n",
        "\n",
        "            precision_scores.append(precision)\n",
        "            recall_scores.append(recall)\n",
        "\n",
        "        except:\n",
        "            continue\n",
        "\n",
        "    return {\n",
        "        f'Precision@{k}': np.mean(precision_scores) if precision_scores else 0,\n",
        "        f'Recall@{k}': np.mean(recall_scores) if recall_scores else 0\n",
        "    }"
      ],
      "metadata": {
        "id": "wRx0vk4H5JTc"
      },
      "execution_count": 11,
      "outputs": []
    },
    {
      "cell_type": "code",
      "source": [
        "# Jalankan evaluasi\n",
        "print(\"🎬 Content-Based Filtering Evaluation...\")\n",
        "results = evaluate_content_based(recommender, k=10)\n",
        "\n",
        "print(\"📊 Hasil Evaluasi:\")\n",
        "print(f\"Precision@10: {results['Precision@10']:.4f}\")\n",
        "print(f\"Recall@10: {results['Recall@10']:.4f}\")"
      ],
      "metadata": {
        "colab": {
          "base_uri": "https://localhost:8080/"
        },
        "id": "MtIc0NSJ7aaw",
        "outputId": "81ead548-ff7a-43f2-e40d-a8619a9487b4"
      },
      "execution_count": 12,
      "outputs": [
        {
          "output_type": "stream",
          "name": "stdout",
          "text": [
            "🎬 Content-Based Filtering Evaluation...\n",
            "📊 Hasil Evaluasi:\n",
            "Precision@10: 0.9233\n",
            "Recall@10: 0.0080\n"
          ]
        }
      ]
    },
    {
      "cell_type": "markdown",
      "source": [
        "# Test Sistem"
      ],
      "metadata": {
        "id": "2I0tFyvGpD7h"
      }
    },
    {
      "cell_type": "markdown",
      "source": [
        "## Deskripsi:\n",
        "Cell ini memiliki dua tujuan utama:\n",
        "\n",
        "1. Membangun Fungsi Rekomendasi Interaktif: Mendefinisikan fungsi recommend_movie yang memungkinkan pengguna mendapatkan rekomendasi film dengan mudah hanya dengan memberikan judul film dan jumlah rekomendasi yang diinginkan. Fungsi ini juga menangani kasus di mana film tidak ditemukan.\n",
        "\n",
        "2. Menguji Fungsi Interaktif & Memberikan Ringkasan Model: Menguji fungsi recommend_movie dengan contoh konkret dan kemudian menyajikan ringkasan singkat tentang sistem rekomendasi, termasuk ukuran dataset, metode yang digunakan, dan metrik evaluasi yang telah dihitung sebelumnya."
      ],
      "metadata": {
        "id": "yF2GjPtVS4P1"
      }
    },
    {
      "cell_type": "code",
      "source": [
        "# Interactive Recommendation Function\n",
        "def recommend_movie(title, n=5):\n",
        "    try:\n",
        "        recs = recommender.get_recommendations(title, n)\n",
        "        print(f\"📽️ Rekomendasi untuk '{title}':\")\n",
        "        for i, (_, row) in enumerate(recs.iterrows(), 1):\n",
        "            print(f\"{i}. {row['title']} - {row['genre']} - Rating: {row['users_rating']}\")\n",
        "    except:\n",
        "        print(\"❌ Film tidak ditemukan\")\n"
      ],
      "metadata": {
        "id": "NrTAXD8WwwnZ"
      },
      "execution_count": 13,
      "outputs": []
    },
    {
      "cell_type": "code",
      "source": [
        "# Test Interactive Function\n",
        "# Contoh penggunaan\n",
        "print(\"Contoh rekomendasi:\")\n",
        "recommend_movie(dataset['title'].iloc[10], 5)\n",
        "\n",
        "# Summary\n",
        "print(\"\\n📊 RINGKASAN SISTEM REKOMENDASI\")\n",
        "print(f\"• Dataset: {len(dataset)} film\")\n",
        "print(f\"• Metode: Content-Based Filtering\")\n",
        "# Update the evaluation results to show Precision@10 and Recall@10\n",
        "print(f\"• Hasil Evaluasi: Precision@10={results['Precision@10']:.4f}, Recall@10={results['Recall@10']:.4f}\")\n",
        "print(f\"• Status: ✅ Siap digunakan\")"
      ],
      "metadata": {
        "colab": {
          "base_uri": "https://localhost:8080/"
        },
        "id": "mZuoKiX8yLx8",
        "outputId": "c8e69063-700d-4f49-9ba9-ecbdfd529d1f"
      },
      "execution_count": 14,
      "outputs": [
        {
          "output_type": "stream",
          "name": "stdout",
          "text": [
            "Contoh rekomendasi:\n",
            "📽️ Rekomendasi untuk 'May the Devil Take You: Chapter Two':\n",
            "1. Di Dasar Segalanya - Drama - Rating: 6.1\n",
            "2. Danau Hitam - Horror - Rating: 6.1\n",
            "3. Pocong 2 - Horror - Rating: 6.5\n",
            "4. Si Juki - Animation - Rating: 6.4\n",
            "5. Susi Susanti: Love All - Biography - Rating: 7.5\n",
            "\n",
            "📊 RINGKASAN SISTEM REKOMENDASI\n",
            "• Dataset: 1272 film\n",
            "• Metode: Content-Based Filtering\n",
            "• Hasil Evaluasi: Precision@10=0.9233, Recall@10=0.0080\n",
            "• Status: ✅ Siap digunakan\n"
          ]
        }
      ]
    }
  ]
}